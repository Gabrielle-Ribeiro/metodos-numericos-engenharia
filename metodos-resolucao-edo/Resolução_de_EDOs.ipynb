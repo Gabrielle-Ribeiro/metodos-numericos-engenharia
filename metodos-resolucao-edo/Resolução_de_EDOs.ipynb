{
  "nbformat": 4,
  "nbformat_minor": 0,
  "metadata": {
    "colab": {
      "name": "Resolução de EDOs.ipynb",
      "provenance": []
    },
    "kernelspec": {
      "name": "python3",
      "display_name": "Python 3"
    },
    "language_info": {
      "name": "python"
    }
  },
  "cells": [
    {
      "cell_type": "markdown",
      "metadata": {
        "id": "prxTwDx_vFRc"
      },
      "source": [
        "## Método da Série de Taylor (2° ordem)"
      ]
    },
    {
      "cell_type": "code",
      "metadata": {
        "id": "RdlpeFtCvCa6"
      },
      "source": [
        "# Modificar\n",
        "\n",
        "x = [0]\n",
        "y = [2]\n",
        "\n",
        "h = 0.2\n",
        "\n",
        "a = 0\n",
        "b = 1"
      ],
      "execution_count": null,
      "outputs": []
    },
    {
      "cell_type": "code",
      "metadata": {
        "id": "VTDW3FnNvvBL"
      },
      "source": [
        "# Modificar\n",
        "\n",
        "def f(x, y):\n",
        "  return x - y + 2"
      ],
      "execution_count": null,
      "outputs": []
    },
    {
      "cell_type": "code",
      "metadata": {
        "id": "X_bocwJIw5_Q"
      },
      "source": [
        "# Modificar\n",
        "\n",
        "def f_linha(x, y):\n",
        "  return -x + y - 1"
      ],
      "execution_count": null,
      "outputs": []
    },
    {
      "cell_type": "code",
      "metadata": {
        "id": "5pd8JmB8v46K"
      },
      "source": [
        "m = int((b - a)/h)"
      ],
      "execution_count": null,
      "outputs": []
    },
    {
      "cell_type": "code",
      "metadata": {
        "id": "WipsnGVZwI9a"
      },
      "source": [
        "for i in range(m+1):\n",
        "  x_anterior = x[i]\n",
        "  y_anterior = y[i]\n",
        "\n",
        "  new_x = x_anterior + h\n",
        "  new_y = y_anterior + h * f(x_anterior, y_anterior) + (h**2 / 2) * f_linha(x_anterior, y_anterior)\n",
        "\n",
        "  x.append(new_x)\n",
        "  y.append(new_y)"
      ],
      "execution_count": null,
      "outputs": []
    },
    {
      "cell_type": "code",
      "metadata": {
        "colab": {
          "base_uri": "https://localhost:8080/"
        },
        "id": "vj_1Fs4OxzJJ",
        "outputId": "3ab0fd97-37ab-4c1c-c4e6-d68e7e7d3af9"
      },
      "source": [
        "for i in range(m+1):\n",
        "  print(f\"x{i} = {x[i]}\")\n",
        "  print(f\"y{i} = {y[i]}\\n\")"
      ],
      "execution_count": null,
      "outputs": [
        {
          "output_type": "stream",
          "name": "stdout",
          "text": [
            "x0 = 0\n",
            "y0 = 2\n",
            "\n",
            "x1 = 0.2\n",
            "y1 = 2.02\n",
            "\n",
            "x2 = 0.4\n",
            "y2 = 2.0724\n",
            "\n",
            "x3 = 0.6000000000000001\n",
            "y3 = 2.1513679999999997\n",
            "\n",
            "x4 = 0.8\n",
            "y4 = 2.2521217599999996\n",
            "\n",
            "x5 = 1.0\n",
            "y5 = 2.3707398431999995\n",
            "\n"
          ]
        }
      ]
    },
    {
      "cell_type": "markdown",
      "metadata": {
        "id": "oyrrn97t8v66"
      },
      "source": [
        "## Método de Heun (2ª ordem)"
      ]
    },
    {
      "cell_type": "code",
      "metadata": {
        "id": "JAnySC5m80_Y"
      },
      "source": [
        "# Modificar\n",
        "\n",
        "x = [0]\n",
        "y = [2]\n",
        "\n",
        "h = 0.2\n",
        "\n",
        "a = 0\n",
        "b = 1"
      ],
      "execution_count": null,
      "outputs": []
    },
    {
      "cell_type": "code",
      "metadata": {
        "id": "Zf598r2Z9MXY"
      },
      "source": [
        "# Modificar\n",
        "\n",
        "def f(x, y):\n",
        "  return x - y + 2"
      ],
      "execution_count": null,
      "outputs": []
    },
    {
      "cell_type": "code",
      "metadata": {
        "id": "V5U_6VZO9N6H"
      },
      "source": [
        "m = int((b - a)/h)"
      ],
      "execution_count": null,
      "outputs": []
    },
    {
      "cell_type": "code",
      "metadata": {
        "id": "yNEFJ1jE9ZHP"
      },
      "source": [
        "for i in range(m+1):\n",
        "  x_anterior = x[i]\n",
        "  y_anterior = y[i]\n",
        "\n",
        "  k1 = f(x_anterior, y_anterior)\n",
        "  k2 = f(x_anterior + h, y_anterior + h * k1)\n",
        "\n",
        "  new_x = x_anterior + h\n",
        "  new_y = y_anterior + (h/2) * (k1 + k2)\n",
        "\n",
        "  x.append(new_x)\n",
        "  y.append(new_y)"
      ],
      "execution_count": null,
      "outputs": []
    },
    {
      "cell_type": "code",
      "metadata": {
        "colab": {
          "base_uri": "https://localhost:8080/"
        },
        "id": "zgax48m099m_",
        "outputId": "b1e02ef9-f9c1-41ce-a8d9-30ef8746365b"
      },
      "source": [
        "for i in range(m+1):\n",
        "  print(f\"x{i} = {x[i]}\")\n",
        "  print(f\"y{i} = {y[i]}\\n\")"
      ],
      "execution_count": null,
      "outputs": [
        {
          "output_type": "stream",
          "name": "stdout",
          "text": [
            "x0 = 0\n",
            "y0 = 2\n",
            "\n",
            "x1 = 0.2\n",
            "y1 = 2.02\n",
            "\n",
            "x2 = 0.4\n",
            "y2 = 2.0724\n",
            "\n",
            "x3 = 0.6000000000000001\n",
            "y3 = 2.151368\n",
            "\n",
            "x4 = 0.8\n",
            "y4 = 2.25212176\n",
            "\n",
            "x5 = 1.0\n",
            "y5 = 2.3707398432\n",
            "\n"
          ]
        }
      ]
    },
    {
      "cell_type": "markdown",
      "metadata": {
        "id": "c96bwdoUBmSl"
      },
      "source": [
        "## Método de Euler Modificado (MRK 2ª ordem)"
      ]
    },
    {
      "cell_type": "code",
      "metadata": {
        "id": "223DuD5LBu5h"
      },
      "source": [
        "# Modificar\n",
        "\n",
        "x = [0]\n",
        "y = [2]\n",
        "\n",
        "h = 0.2\n",
        "\n",
        "a = 0\n",
        "b = 1"
      ],
      "execution_count": null,
      "outputs": []
    },
    {
      "cell_type": "code",
      "metadata": {
        "id": "xF5QGmGjBztR"
      },
      "source": [
        "# Modificar\n",
        "\n",
        "def f(x, y):\n",
        "  return x - y + 2"
      ],
      "execution_count": null,
      "outputs": []
    },
    {
      "cell_type": "code",
      "metadata": {
        "id": "tI-Z6S6vB7Q5"
      },
      "source": [
        "m = int((b - a)/h)"
      ],
      "execution_count": null,
      "outputs": []
    },
    {
      "cell_type": "code",
      "metadata": {
        "id": "PbapAQfCB8aP"
      },
      "source": [
        "for i in range(m+1):\n",
        "  x_anterior = x[i]\n",
        "  y_anterior = y[i]\n",
        "\n",
        "  k1 = f(x_anterior, y_anterior)\n",
        "  k2 = f(x_anterior + (h/2), y_anterior + (h/2) * k1)\n",
        "\n",
        "  new_x = x_anterior + h\n",
        "  new_y = y_anterior + h * k2\n",
        "\n",
        "  x.append(new_x)\n",
        "  y.append(new_y)"
      ],
      "execution_count": null,
      "outputs": []
    },
    {
      "cell_type": "code",
      "metadata": {
        "colab": {
          "base_uri": "https://localhost:8080/"
        },
        "id": "5qhv0P3BCKpP",
        "outputId": "dbcf97e7-3d61-4797-f4a0-1a5b8f7523af"
      },
      "source": [
        "for i in range(m+1):\n",
        "  print(f\"x{i} = {x[i]}\")\n",
        "  print(f\"y{i} = {y[i]}\\n\")"
      ],
      "execution_count": null,
      "outputs": [
        {
          "output_type": "stream",
          "name": "stdout",
          "text": [
            "x0 = 0\n",
            "y0 = 2\n",
            "\n",
            "x1 = 0.2\n",
            "y1 = 2.02\n",
            "\n",
            "x2 = 0.4\n",
            "y2 = 2.0724\n",
            "\n",
            "x3 = 0.6000000000000001\n",
            "y3 = 2.151368\n",
            "\n",
            "x4 = 0.8\n",
            "y4 = 2.25212176\n",
            "\n",
            "x5 = 1.0\n",
            "y5 = 2.3707398432\n",
            "\n"
          ]
        }
      ]
    },
    {
      "cell_type": "markdown",
      "metadata": {
        "id": "2Zm3YDZpHyXB"
      },
      "source": [
        "## Método de Nyustron (Método de Runge-Kutta de 3ª ordem)"
      ]
    },
    {
      "cell_type": "code",
      "metadata": {
        "id": "3kfKKxVEH8he"
      },
      "source": [
        "# Modificar\n",
        "\n",
        "x = [0]\n",
        "y = [2]\n",
        "\n",
        "h = 0.2\n",
        "\n",
        "a = 0\n",
        "b = 1"
      ],
      "execution_count": null,
      "outputs": []
    },
    {
      "cell_type": "code",
      "metadata": {
        "id": "Sd8udKiDH-4e"
      },
      "source": [
        "# Modificar\n",
        "\n",
        "def f(x, y):\n",
        "  return x - y + 2"
      ],
      "execution_count": null,
      "outputs": []
    },
    {
      "cell_type": "code",
      "metadata": {
        "id": "AWtIuco_ICG-"
      },
      "source": [
        "m = int((b - a)/h)"
      ],
      "execution_count": null,
      "outputs": []
    },
    {
      "cell_type": "code",
      "metadata": {
        "id": "VyM0RzhJIC3k"
      },
      "source": [
        "for i in range(m+1):\n",
        "  x_anterior = x[i]\n",
        "  y_anterior = y[i]\n",
        "\n",
        "  k1 = f(x_anterior, y_anterior)\n",
        "  k2 = f(x_anterior + (h/2), y_anterior + (h/2) * k1)\n",
        "  k3 = f(x_anterior + h, y_anterior - h * k1 + 2 * h * k2)\n",
        "\n",
        "  new_x = x_anterior + h\n",
        "  new_y = y_anterior + (1/6) * (k1 + k2 + k3)\n",
        "\n",
        "  x.append(new_x)\n",
        "  y.append(new_y)"
      ],
      "execution_count": null,
      "outputs": []
    },
    {
      "cell_type": "code",
      "metadata": {
        "id": "T4i5OS2HIc_0",
        "colab": {
          "base_uri": "https://localhost:8080/"
        },
        "outputId": "e7164163-71ef-4dbe-81ac-f44bb02c23d6"
      },
      "source": [
        "for i in range(m+1):\n",
        "  print(f\"x{i} = {x[i]}\")\n",
        "  print(f\"y{i} = {y[i]}\\n\")"
      ],
      "execution_count": null,
      "outputs": [
        {
          "output_type": "stream",
          "name": "stdout",
          "text": [
            "x0 = 0\n",
            "y0 = 2\n",
            "\n",
            "x1 = 0.2\n",
            "y1 = 2.0433333333333334\n",
            "\n",
            "x2 = 0.4\n",
            "y2 = 2.158211111111111\n",
            "\n",
            "x3 = 0.6000000000000001\n",
            "y3 = 2.3119613703703705\n",
            "\n",
            "x4 = 0.8\n",
            "y4 = 2.4868323445679015\n",
            "\n",
            "x5 = 1.0\n",
            "y5 = 2.6731789072152266\n",
            "\n"
          ]
        }
      ]
    }
  ]
}